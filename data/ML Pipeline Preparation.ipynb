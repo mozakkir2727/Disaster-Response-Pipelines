{
 "cells": [
  {
   "cell_type": "markdown",
   "metadata": {},
   "source": [
    "# ML Pipeline Preparation\n",
    "Follow the instructions below to help you create your ML pipeline.\n",
    "### 1. Import libraries and load data from database.\n",
    "- Import Python libraries\n",
    "- Load dataset from database with [`read_sql_table`](https://pandas.pydata.org/pandas-docs/stable/generated/pandas.read_sql_table.html)\n",
    "- Define feature and target variables X and Y"
   ]
  },
  {
   "cell_type": "code",
   "execution_count": 1,
   "metadata": {},
   "outputs": [
    {
     "name": "stdout",
     "output_type": "stream",
     "text": [
      "[nltk_data] Downloading package punkt to /root/nltk_data...\n",
      "[nltk_data]   Package punkt is already up-to-date!\n",
      "[nltk_data] Downloading package wordnet to /root/nltk_data...\n",
      "[nltk_data]   Package wordnet is already up-to-date!\n",
      "[nltk_data] Downloading package punkt to /root/nltk_data...\n",
      "[nltk_data]   Package punkt is already up-to-date!\n",
      "[nltk_data] Downloading package wordnet to /root/nltk_data...\n",
      "[nltk_data]   Package wordnet is already up-to-date!\n",
      "[nltk_data] Downloading package stopwords to /root/nltk_data...\n",
      "[nltk_data]   Package stopwords is already up-to-date!\n",
      "[nltk_data] Downloading package averaged_perceptron_tagger to\n",
      "[nltk_data]     /root/nltk_data...\n",
      "[nltk_data]   Package averaged_perceptron_tagger is already up-to-\n",
      "[nltk_data]       date!\n"
     ]
    }
   ],
   "source": [
    "# import libraries\n",
    "import numpy as np\n",
    "import pandas as pd\n",
    "from sqlalchemy import create_engine\n",
    "import nltk\n",
    "from sklearn.pipeline import Pipeline\n",
    "from sklearn.model_selection import train_test_split\n",
    "from sklearn.metrics import classification_report\n",
    "from sklearn.metrics import confusion_matrix\n",
    "from sklearn.metrics import fbeta_score, make_scorer\n",
    "from sklearn.ensemble import GradientBoostingClassifier, RandomForestClassifier\n",
    "from sklearn.model_selection import GridSearchCV\n",
    "from sklearn.feature_extraction.text import TfidfTransformer, CountVectorizer\n",
    "from sklearn.multioutput import MultiOutputClassifier\n",
    "import pickle\n",
    "nltk.download('punkt')\n",
    "nltk.download('wordnet')\n",
    "nltk.download(['punkt', 'wordnet', 'stopwords', 'averaged_perceptron_tagger'])\n",
    "import re\n",
    "from nltk.tokenize import word_tokenize\n",
    "from nltk.stem import WordNetLemmatizer\n",
    "from nltk.corpus import stopwords\n",
    "from nltk.stem.porter import PorterStemmer\n",
    "from sklearn.pipeline import Pipeline, FeatureUnion\n",
    "from sklearn.metrics import confusion_matrix, classification_report, hamming_loss\n",
    "from sklearn.model_selection import train_test_split, GridSearchCV\n",
    "from sklearn.multioutput import MultiOutputClassifier\n",
    "from sklearn.ensemble import RandomForestClassifier\n",
    "from sklearn.feature_extraction.text import CountVectorizer, TfidfTransformer\n",
    "from sklearn.base import BaseEstimator, TransformerMixin\n"
   ]
  },
  {
   "cell_type": "code",
   "execution_count": 2,
   "metadata": {},
   "outputs": [],
   "source": [
    "# load data from database\n",
    "engine = create_engine('sqlite:///InsertDatabaseName.db')\n",
    "df = pd.read_sql ('SELECT * FROM TableName', engine)\n",
    "X = df ['message']\n",
    "Y = df.iloc[:,4:]"
   ]
  },
  {
   "cell_type": "markdown",
   "metadata": {},
   "source": [
    "### 2. Write a tokenization function to process your text data"
   ]
  },
  {
   "cell_type": "code",
   "execution_count": 3,
   "metadata": {},
   "outputs": [
    {
     "name": "stdout",
     "output_type": "stream",
     "text": [
      "UN reports Leogane 80-90 destroyed. Only Hospital St. Croix functioning. Needs supplies desperately.\n",
      "['UN', 'report', 'Leogane', '80', '90', 'destroyed', 'Only', 'Hospital', 'St', 'Croix', 'functioning', 'Needs', 'supply', 'desperately']\n"
     ]
    }
   ],
   "source": [
    "def tokenize(text):\n",
    "    pass\n",
    "#converting all the text to lowercase\n",
    "    text.lower()\n",
    "    # removing punctuation characters from the text and replacing them with an empty space\n",
    "    text = re.sub(r\"[^a-zA-Z0-9]\", \" \", text)\n",
    "    # use the word tokenizer to convert text into tokens\n",
    "    tokens = word_tokenize(text)\n",
    "    # removing stopwords by calling a \"for loop\" for the tokens and using english stopwords from nltk!\n",
    "    tokens = [word for word in tokens if word not in stopwords.words(\"english\")]\n",
    "    # Using lemmatization to strip all the words\n",
    "    tokens = [WordNetLemmatizer().lemmatize(word).strip() for word in tokens]\n",
    "    # finally return the tokens\n",
    "    return tokens\n",
    "\n",
    "print(X[3])\n",
    "print(tokenize(X[3]))"
   ]
  },
  {
   "cell_type": "markdown",
   "metadata": {},
   "source": [
    "### 3. Build a machine learning pipeline\n",
    "This machine pipeline should take in the `message` column as input and output classification results on the other 36 categories in the dataset. You may find the [MultiOutputClassifier](http://scikit-learn.org/stable/modules/generated/sklearn.multioutput.MultiOutputClassifier.html) helpful for predicting multiple target variables."
   ]
  },
  {
   "cell_type": "code",
   "execution_count": 4,
   "metadata": {},
   "outputs": [],
   "source": [
    "pipeline = pipeline = Pipeline([\n",
    "    ('vect', CountVectorizer(tokenizer = tokenize)),\n",
    "    ('tfidf', TfidfTransformer()),\n",
    "    ('clf', MultiOutputClassifier(RandomForestClassifier()))\n",
    "])"
   ]
  },
  {
   "cell_type": "markdown",
   "metadata": {},
   "source": [
    "### 4. Train pipeline\n",
    "- Split data into train and test sets\n",
    "- Train pipeline"
   ]
  },
  {
   "cell_type": "code",
   "execution_count": 5,
   "metadata": {},
   "outputs": [
    {
     "data": {
      "text/plain": [
       "Pipeline(memory=None,\n",
       "     steps=[('vect', CountVectorizer(analyzer='word', binary=False, decode_error='strict',\n",
       "        dtype=<class 'numpy.int64'>, encoding='utf-8', input='content',\n",
       "        lowercase=True, max_df=1.0, max_features=None, min_df=1,\n",
       "        ngram_range=(1, 1), preprocessor=None, stop_words=None,\n",
       "        strip...oob_score=False, random_state=None, verbose=0,\n",
       "            warm_start=False),\n",
       "           n_jobs=1))])"
      ]
     },
     "execution_count": 5,
     "metadata": {},
     "output_type": "execute_result"
    }
   ],
   "source": [
    "X_train, X_test, Y_train, Y_test = train_test_split(X, Y)\n",
    " # train classifier\n",
    "pipeline.fit(X_train, Y_train)"
   ]
  },
  {
   "cell_type": "markdown",
   "metadata": {},
   "source": [
    "### 5. Test your model\n",
    "Report the f1 score, precision and recall for each output category of the dataset. You can do this by iterating through the columns and calling sklearn's `classification_report` on each."
   ]
  },
  {
   "cell_type": "code",
   "execution_count": 6,
   "metadata": {},
   "outputs": [],
   "source": [
    "Y_pred = pipeline.predict(X_test)"
   ]
  },
  {
   "cell_type": "code",
   "execution_count": 7,
   "metadata": {},
   "outputs": [
    {
     "name": "stdout",
     "output_type": "stream",
     "text": [
      "related\n",
      "             precision    recall  f1-score   support\n",
      "\n",
      "          0       0.61      0.45      0.52      1535\n",
      "          1       0.84      0.91      0.87      4979\n",
      "          2       0.19      0.33      0.24        40\n",
      "\n",
      "avg / total       0.78      0.80      0.79      6554\n",
      "\n",
      "request\n",
      "             precision    recall  f1-score   support\n",
      "\n",
      "          0       0.89      0.98      0.93      5408\n",
      "          1       0.81      0.46      0.58      1146\n",
      "\n",
      "avg / total       0.88      0.89      0.87      6554\n",
      "\n",
      "offer\n",
      "             precision    recall  f1-score   support\n",
      "\n",
      "          0       1.00      1.00      1.00      6532\n",
      "          1       0.00      0.00      0.00        22\n",
      "\n",
      "avg / total       0.99      1.00      0.99      6554\n",
      "\n",
      "aid_related\n",
      "             precision    recall  f1-score   support\n",
      "\n",
      "          0       0.76      0.84      0.80      3864\n",
      "          1       0.74      0.62      0.68      2690\n",
      "\n",
      "avg / total       0.75      0.75      0.75      6554\n",
      "\n",
      "medical_help\n",
      "             precision    recall  f1-score   support\n",
      "\n",
      "          0       0.93      0.99      0.96      6054\n",
      "          1       0.47      0.08      0.14       500\n",
      "\n",
      "avg / total       0.89      0.92      0.90      6554\n",
      "\n",
      "medical_products\n",
      "             precision    recall  f1-score   support\n",
      "\n",
      "          0       0.95      1.00      0.98      6219\n",
      "          1       0.78      0.09      0.17       335\n",
      "\n",
      "avg / total       0.94      0.95      0.93      6554\n",
      "\n",
      "search_and_rescue\n",
      "             precision    recall  f1-score   support\n",
      "\n",
      "          0       0.98      1.00      0.99      6398\n",
      "          1       0.60      0.04      0.07       156\n",
      "\n",
      "avg / total       0.97      0.98      0.97      6554\n",
      "\n",
      "security\n",
      "             precision    recall  f1-score   support\n",
      "\n",
      "          0       0.98      1.00      0.99      6420\n",
      "          1       0.33      0.01      0.01       134\n",
      "\n",
      "avg / total       0.97      0.98      0.97      6554\n",
      "\n",
      "military\n",
      "             precision    recall  f1-score   support\n",
      "\n",
      "          0       0.97      1.00      0.98      6337\n",
      "          1       0.68      0.10      0.17       217\n",
      "\n",
      "avg / total       0.96      0.97      0.96      6554\n",
      "\n",
      "child_alone\n",
      "             precision    recall  f1-score   support\n",
      "\n",
      "          0       1.00      1.00      1.00      6554\n",
      "\n",
      "avg / total       1.00      1.00      1.00      6554\n",
      "\n",
      "water\n",
      "             precision    recall  f1-score   support\n",
      "\n",
      "          0       0.96      1.00      0.98      6126\n",
      "          1       0.88      0.34      0.49       428\n",
      "\n",
      "avg / total       0.95      0.95      0.94      6554\n",
      "\n",
      "food\n",
      "             precision    recall  f1-score   support\n",
      "\n",
      "          0       0.93      0.99      0.96      5781\n",
      "          1       0.83      0.46      0.59       773\n",
      "\n",
      "avg / total       0.92      0.93      0.92      6554\n",
      "\n",
      "shelter\n",
      "             precision    recall  f1-score   support\n",
      "\n",
      "          0       0.94      0.99      0.96      5983\n",
      "          1       0.82      0.29      0.43       571\n",
      "\n",
      "avg / total       0.93      0.93      0.92      6554\n",
      "\n",
      "clothing\n",
      "             precision    recall  f1-score   support\n",
      "\n",
      "          0       0.99      1.00      0.99      6446\n",
      "          1       0.75      0.17      0.27       108\n",
      "\n",
      "avg / total       0.98      0.99      0.98      6554\n",
      "\n",
      "money\n",
      "             precision    recall  f1-score   support\n",
      "\n",
      "          0       0.98      1.00      0.99      6406\n",
      "          1       0.67      0.03      0.05       148\n",
      "\n",
      "avg / total       0.97      0.98      0.97      6554\n",
      "\n",
      "missing_people\n",
      "             precision    recall  f1-score   support\n",
      "\n",
      "          0       0.99      1.00      0.99      6485\n",
      "          1       0.00      0.00      0.00        69\n",
      "\n",
      "avg / total       0.98      0.99      0.98      6554\n",
      "\n",
      "refugees\n",
      "             precision    recall  f1-score   support\n",
      "\n",
      "          0       0.97      1.00      0.98      6328\n",
      "          1       0.54      0.03      0.06       226\n",
      "\n",
      "avg / total       0.95      0.97      0.95      6554\n",
      "\n",
      "death\n",
      "             precision    recall  f1-score   support\n",
      "\n",
      "          0       0.97      1.00      0.98      6299\n",
      "          1       0.76      0.21      0.33       255\n",
      "\n",
      "avg / total       0.96      0.97      0.96      6554\n",
      "\n",
      "other_aid\n",
      "             precision    recall  f1-score   support\n",
      "\n",
      "          0       0.87      0.99      0.93      5694\n",
      "          1       0.50      0.05      0.09       860\n",
      "\n",
      "avg / total       0.82      0.87      0.82      6554\n",
      "\n",
      "infrastructure_related\n",
      "             precision    recall  f1-score   support\n",
      "\n",
      "          0       0.94      1.00      0.97      6133\n",
      "          1       0.36      0.01      0.02       421\n",
      "\n",
      "avg / total       0.90      0.94      0.91      6554\n",
      "\n",
      "transport\n",
      "             precision    recall  f1-score   support\n",
      "\n",
      "          0       0.96      1.00      0.98      6252\n",
      "          1       0.53      0.07      0.12       302\n",
      "\n",
      "avg / total       0.94      0.95      0.94      6554\n",
      "\n",
      "buildings\n",
      "             precision    recall  f1-score   support\n",
      "\n",
      "          0       0.96      1.00      0.98      6233\n",
      "          1       0.71      0.10      0.17       321\n",
      "\n",
      "avg / total       0.94      0.95      0.94      6554\n",
      "\n",
      "electricity\n",
      "             precision    recall  f1-score   support\n",
      "\n",
      "          0       0.98      1.00      0.99      6411\n",
      "          1       0.67      0.03      0.05       143\n",
      "\n",
      "avg / total       0.97      0.98      0.97      6554\n",
      "\n",
      "tools\n",
      "             precision    recall  f1-score   support\n",
      "\n",
      "          0       0.99      1.00      1.00      6500\n",
      "          1       0.00      0.00      0.00        54\n",
      "\n",
      "avg / total       0.98      0.99      0.99      6554\n",
      "\n",
      "hospitals\n",
      "             precision    recall  f1-score   support\n",
      "\n",
      "          0       0.99      1.00      0.99      6472\n",
      "          1       0.00      0.00      0.00        82\n",
      "\n",
      "avg / total       0.98      0.99      0.98      6554\n",
      "\n",
      "shops\n",
      "             precision    recall  f1-score   support\n",
      "\n",
      "          0       1.00      1.00      1.00      6525\n",
      "          1       0.00      0.00      0.00        29\n",
      "\n",
      "avg / total       0.99      1.00      0.99      6554\n",
      "\n",
      "aid_centers\n",
      "             precision    recall  f1-score   support\n",
      "\n",
      "          0       0.99      1.00      0.99      6478\n",
      "          1       0.00      0.00      0.00        76\n",
      "\n",
      "avg / total       0.98      0.99      0.98      6554\n",
      "\n",
      "other_infrastructure\n",
      "             precision    recall  f1-score   support\n",
      "\n",
      "          0       0.96      1.00      0.98      6279\n",
      "          1       0.00      0.00      0.00       275\n",
      "\n",
      "avg / total       0.92      0.96      0.94      6554\n",
      "\n",
      "weather_related\n",
      "             precision    recall  f1-score   support\n",
      "\n",
      "          0       0.86      0.95      0.90      4735\n",
      "          1       0.81      0.59      0.69      1819\n",
      "\n",
      "avg / total       0.85      0.85      0.84      6554\n",
      "\n",
      "floods\n",
      "             precision    recall  f1-score   support\n",
      "\n",
      "          0       0.94      1.00      0.97      6025\n",
      "          1       0.85      0.22      0.35       529\n",
      "\n",
      "avg / total       0.93      0.93      0.92      6554\n",
      "\n",
      "storm\n",
      "             precision    recall  f1-score   support\n",
      "\n",
      "          0       0.94      0.99      0.97      5939\n",
      "          1       0.78      0.44      0.56       615\n",
      "\n",
      "avg / total       0.93      0.94      0.93      6554\n",
      "\n",
      "fire\n",
      "             precision    recall  f1-score   support\n",
      "\n",
      "          0       0.99      1.00      0.99      6472\n",
      "          1       0.00      0.00      0.00        82\n",
      "\n",
      "avg / total       0.98      0.99      0.98      6554\n",
      "\n",
      "earthquake\n",
      "             precision    recall  f1-score   support\n",
      "\n",
      "          0       0.98      0.99      0.98      5983\n",
      "          1       0.88      0.77      0.82       571\n",
      "\n",
      "avg / total       0.97      0.97      0.97      6554\n",
      "\n",
      "cold\n",
      "             precision    recall  f1-score   support\n",
      "\n",
      "          0       0.98      1.00      0.99      6411\n",
      "          1       0.70      0.05      0.09       143\n",
      "\n",
      "avg / total       0.97      0.98      0.97      6554\n",
      "\n",
      "other_weather\n",
      "             precision    recall  f1-score   support\n",
      "\n",
      "          0       0.95      1.00      0.97      6212\n",
      "          1       0.43      0.04      0.07       342\n",
      "\n",
      "avg / total       0.92      0.95      0.93      6554\n",
      "\n",
      "direct_report\n",
      "             precision    recall  f1-score   support\n",
      "\n",
      "          0       0.85      0.97      0.91      5253\n",
      "          1       0.74      0.31      0.44      1301\n",
      "\n",
      "avg / total       0.83      0.84      0.81      6554\n",
      "\n",
      "Accuracy Overall:\n",
      " 0.943995185298\n"
     ]
    },
    {
     "name": "stderr",
     "output_type": "stream",
     "text": [
      "/opt/conda/lib/python3.6/site-packages/sklearn/metrics/classification.py:1135: UndefinedMetricWarning: Precision and F-score are ill-defined and being set to 0.0 in labels with no predicted samples.\n",
      "  'precision', 'predicted', average, warn_for)\n"
     ]
    }
   ],
   "source": [
    "for ix, col in enumerate(Y.columns):\n",
    "    print(col)\n",
    "    print(classification_report(Y_test[col], Y_pred[:,ix]))\n",
    "\n",
    "avg = (Y_pred == Y_test).mean().mean()\n",
    "print(\"Accuracy Overall:\\n\", avg)"
   ]
  },
  {
   "cell_type": "markdown",
   "metadata": {},
   "source": [
    "### 6. Improve your model\n",
    "Use grid search to find better parameters. "
   ]
  },
  {
   "cell_type": "code",
   "execution_count": 8,
   "metadata": {},
   "outputs": [
    {
     "data": {
      "text/plain": [
       "<bound method Pipeline.get_params of Pipeline(memory=None,\n",
       "     steps=[('vect', CountVectorizer(analyzer='word', binary=False, decode_error='strict',\n",
       "        dtype=<class 'numpy.int64'>, encoding='utf-8', input='content',\n",
       "        lowercase=True, max_df=1.0, max_features=None, min_df=1,\n",
       "        ngram_range=(1, 1), preprocessor=None, stop_words=None,\n",
       "        strip...oob_score=False, random_state=None, verbose=0,\n",
       "            warm_start=False),\n",
       "           n_jobs=1))])>"
      ]
     },
     "execution_count": 8,
     "metadata": {},
     "output_type": "execute_result"
    }
   ],
   "source": [
    "pipeline.get_params"
   ]
  },
  {
   "cell_type": "code",
   "execution_count": 9,
   "metadata": {},
   "outputs": [
    {
     "name": "stdout",
     "output_type": "stream",
     "text": [
      "Fitting 3 folds for each of 4 candidates, totalling 12 fits\n",
      "[CV] clf__estimator__n_estimators=20, vect__max_df=0.75 ..............\n",
      "[CV] clf__estimator__n_estimators=20, vect__max_df=0.75 ..............\n",
      "[CV] clf__estimator__n_estimators=20, vect__max_df=0.75 ..............\n",
      "[CV] clf__estimator__n_estimators=20, vect__max_df=1.0 ...............\n",
      "[CV]  clf__estimator__n_estimators=20, vect__max_df=0.75, score=0.23909063167531278, total=11.3min\n",
      "[CV] clf__estimator__n_estimators=20, vect__max_df=1.0 ...............\n",
      "[CV]  clf__estimator__n_estimators=20, vect__max_df=0.75, score=0.2503814464449191, total=11.3min\n",
      "[CV] clf__estimator__n_estimators=20, vect__max_df=1.0 ...............\n",
      "[CV]  clf__estimator__n_estimators=20, vect__max_df=1.0, score=0.2503814464449191, total=11.3min\n",
      "[CV] clf__estimator__n_estimators=50, vect__max_df=0.75 ..............\n",
      "[CV]  clf__estimator__n_estimators=20, vect__max_df=0.75, score=0.25297528227036925, total=11.3min\n",
      "[CV] clf__estimator__n_estimators=50, vect__max_df=0.75 ..............\n",
      "[CV]  clf__estimator__n_estimators=20, vect__max_df=1.0, score=0.24275251754653646, total=11.3min\n",
      "[CV] clf__estimator__n_estimators=50, vect__max_df=0.75 ..............\n"
     ]
    },
    {
     "name": "stderr",
     "output_type": "stream",
     "text": [
      "[Parallel(n_jobs=4)]: Done   5 tasks      | elapsed: 31.4min\n"
     ]
    },
    {
     "name": "stdout",
     "output_type": "stream",
     "text": [
      "[CV]  clf__estimator__n_estimators=20, vect__max_df=1.0, score=0.24305767470247178, total=11.4min\n",
      "[CV] clf__estimator__n_estimators=50, vect__max_df=1.0 ...............\n",
      "[CV]  clf__estimator__n_estimators=50, vect__max_df=0.75, score=0.2488556606652426, total=19.3min\n",
      "[CV] clf__estimator__n_estimators=50, vect__max_df=1.0 ...............\n"
     ]
    },
    {
     "name": "stderr",
     "output_type": "stream",
     "text": [
      "[Parallel(n_jobs=4)]: Done   7 out of  12 | elapsed: 40.3min remaining: 28.8min\n"
     ]
    },
    {
     "name": "stdout",
     "output_type": "stream",
     "text": [
      "[CV]  clf__estimator__n_estimators=50, vect__max_df=0.75, score=0.2593835825450107, total=19.4min\n",
      "[CV] clf__estimator__n_estimators=50, vect__max_df=1.0 ...............\n",
      "[CV]  clf__estimator__n_estimators=50, vect__max_df=0.75, score=0.26930119011290815, total=19.8min\n"
     ]
    },
    {
     "name": "stderr",
     "output_type": "stream",
     "text": [
      "[Parallel(n_jobs=4)]: Done   9 out of  12 | elapsed: 56.5min remaining: 18.8min\n"
     ]
    },
    {
     "name": "stdout",
     "output_type": "stream",
     "text": [
      "[CV]  clf__estimator__n_estimators=50, vect__max_df=1.0, score=0.25617943240769, total=20.0min\n",
      "[CV]  clf__estimator__n_estimators=50, vect__max_df=1.0, score=0.25129691791272507, total=18.0min\n",
      "[CV]  clf__estimator__n_estimators=50, vect__max_df=1.0, score=0.26167226121452547, total=18.0min\n"
     ]
    },
    {
     "name": "stderr",
     "output_type": "stream",
     "text": [
      "[Parallel(n_jobs=4)]: Done  12 out of  12 | elapsed: 60.8min finished\n"
     ]
    },
    {
     "data": {
      "text/plain": [
       "GridSearchCV(cv=None, error_score='raise',\n",
       "       estimator=Pipeline(memory=None,\n",
       "     steps=[('vect', CountVectorizer(analyzer='word', binary=False, decode_error='strict',\n",
       "        dtype=<class 'numpy.int64'>, encoding='utf-8', input='content',\n",
       "        lowercase=True, max_df=1.0, max_features=None, min_df=1,\n",
       "        ngram_range=(1, 1), preprocessor=None, stop_words=None,\n",
       "        strip...oob_score=False, random_state=None, verbose=0,\n",
       "            warm_start=False),\n",
       "           n_jobs=1))]),\n",
       "       fit_params=None, iid=True, n_jobs=4,\n",
       "       param_grid={'vect__max_df': [0.75, 1.0], 'clf__estimator__n_estimators': [20, 50]},\n",
       "       pre_dispatch='2*n_jobs', refit=True, return_train_score='warn',\n",
       "       scoring=None, verbose=10)"
      ]
     },
     "execution_count": 9,
     "metadata": {},
     "output_type": "execute_result"
    }
   ],
   "source": [
    "parameters = {\n",
    "        'vect__max_df':[0.75,1.0],\n",
    "        'clf__estimator__n_estimators': [20, 50]\n",
    "    }\n",
    "\n",
    "cv = GridSearchCV(pipeline, param_grid=parameters, verbose=10, n_jobs=4)\n",
    "cv.fit(X_train, Y_train)"
   ]
  },
  {
   "cell_type": "markdown",
   "metadata": {},
   "source": [
    "### 7. Test your model\n",
    "Show the accuracy, precision, and recall of the tuned model.  \n",
    "\n",
    "Since this project focuses on code quality, process, and  pipelines, there is no minimum performance metric needed to pass. However, make sure to fine tune your models for accuracy, precision and recall to make your project stand out - especially for your portfolio!"
   ]
  },
  {
   "cell_type": "code",
   "execution_count": 17,
   "metadata": {},
   "outputs": [
    {
     "name": "stdout",
     "output_type": "stream",
     "text": [
      "related\n",
      "             precision    recall  f1-score   support\n",
      "\n",
      "          0       0.68      0.42      0.52      1535\n",
      "          1       0.84      0.94      0.88      4979\n",
      "          2       0.22      0.25      0.24        40\n",
      "\n",
      "avg / total       0.80      0.81      0.80      6554\n",
      "\n",
      "request\n",
      "             precision    recall  f1-score   support\n",
      "\n",
      "          0       0.90      0.98      0.94      5408\n",
      "          1       0.84      0.50      0.62      1146\n",
      "\n",
      "avg / total       0.89      0.90      0.88      6554\n",
      "\n",
      "offer\n",
      "             precision    recall  f1-score   support\n",
      "\n",
      "          0       1.00      1.00      1.00      6532\n",
      "          1       0.00      0.00      0.00        22\n",
      "\n",
      "avg / total       0.99      1.00      0.99      6554\n",
      "\n",
      "aid_related\n",
      "             precision    recall  f1-score   support\n",
      "\n",
      "          0       0.80      0.84      0.82      3864\n",
      "          1       0.75      0.70      0.72      2690\n",
      "\n",
      "avg / total       0.78      0.78      0.78      6554\n",
      "\n",
      "medical_help\n",
      "             precision    recall  f1-score   support\n",
      "\n",
      "          0       0.93      1.00      0.96      6054\n",
      "          1       0.64      0.09      0.16       500\n",
      "\n",
      "avg / total       0.91      0.93      0.90      6554\n",
      "\n",
      "medical_products\n",
      "             precision    recall  f1-score   support\n",
      "\n",
      "          0       0.95      1.00      0.98      6219\n",
      "          1       0.82      0.07      0.13       335\n",
      "\n",
      "avg / total       0.95      0.95      0.93      6554\n",
      "\n",
      "search_and_rescue\n",
      "             precision    recall  f1-score   support\n",
      "\n",
      "          0       0.98      1.00      0.99      6398\n",
      "          1       0.56      0.03      0.06       156\n",
      "\n",
      "avg / total       0.97      0.98      0.97      6554\n",
      "\n",
      "security\n",
      "             precision    recall  f1-score   support\n",
      "\n",
      "          0       0.98      1.00      0.99      6420\n",
      "          1       0.50      0.01      0.01       134\n",
      "\n",
      "avg / total       0.97      0.98      0.97      6554\n",
      "\n",
      "military\n",
      "             precision    recall  f1-score   support\n",
      "\n",
      "          0       0.97      1.00      0.98      6337\n",
      "          1       0.74      0.08      0.14       217\n",
      "\n",
      "avg / total       0.96      0.97      0.96      6554\n",
      "\n",
      "child_alone\n",
      "             precision    recall  f1-score   support\n",
      "\n",
      "          0       1.00      1.00      1.00      6554\n",
      "\n",
      "avg / total       1.00      1.00      1.00      6554\n",
      "\n",
      "water\n",
      "             precision    recall  f1-score   support\n",
      "\n",
      "          0       0.96      1.00      0.98      6126\n",
      "          1       0.88      0.37      0.52       428\n",
      "\n",
      "avg / total       0.95      0.96      0.95      6554\n",
      "\n",
      "food\n",
      "             precision    recall  f1-score   support\n",
      "\n",
      "          0       0.95      0.99      0.97      5781\n",
      "          1       0.86      0.62      0.72       773\n",
      "\n",
      "avg / total       0.94      0.94      0.94      6554\n",
      "\n",
      "shelter\n",
      "             precision    recall  f1-score   support\n",
      "\n",
      "          0       0.94      0.99      0.97      5983\n",
      "          1       0.81      0.33      0.46       571\n",
      "\n",
      "avg / total       0.93      0.93      0.92      6554\n",
      "\n",
      "clothing\n",
      "             precision    recall  f1-score   support\n",
      "\n",
      "          0       0.99      1.00      0.99      6446\n",
      "          1       0.83      0.09      0.17       108\n",
      "\n",
      "avg / total       0.98      0.98      0.98      6554\n",
      "\n",
      "money\n",
      "             precision    recall  f1-score   support\n",
      "\n",
      "          0       0.98      1.00      0.99      6406\n",
      "          1       0.83      0.03      0.06       148\n",
      "\n",
      "avg / total       0.97      0.98      0.97      6554\n",
      "\n",
      "missing_people\n",
      "             precision    recall  f1-score   support\n",
      "\n",
      "          0       0.99      1.00      0.99      6485\n",
      "          1       0.00      0.00      0.00        69\n",
      "\n",
      "avg / total       0.98      0.99      0.98      6554\n",
      "\n",
      "refugees\n",
      "             precision    recall  f1-score   support\n",
      "\n",
      "          0       0.97      1.00      0.98      6328\n",
      "          1       0.60      0.01      0.03       226\n",
      "\n",
      "avg / total       0.95      0.97      0.95      6554\n",
      "\n",
      "death\n",
      "             precision    recall  f1-score   support\n",
      "\n",
      "          0       0.97      1.00      0.98      6299\n",
      "          1       0.80      0.19      0.31       255\n",
      "\n",
      "avg / total       0.96      0.97      0.96      6554\n",
      "\n",
      "other_aid\n",
      "             precision    recall  f1-score   support\n",
      "\n",
      "          0       0.87      1.00      0.93      5694\n",
      "          1       0.52      0.03      0.06       860\n",
      "\n",
      "avg / total       0.83      0.87      0.82      6554\n",
      "\n",
      "infrastructure_related\n",
      "             precision    recall  f1-score   support\n",
      "\n",
      "          0       0.94      1.00      0.97      6133\n",
      "          1       0.00      0.00      0.00       421\n",
      "\n",
      "avg / total       0.88      0.94      0.90      6554\n",
      "\n",
      "transport\n",
      "             precision    recall  f1-score   support\n",
      "\n",
      "          0       0.96      1.00      0.98      6252\n",
      "          1       0.67      0.10      0.17       302\n",
      "\n",
      "avg / total       0.94      0.96      0.94      6554\n",
      "\n",
      "buildings\n",
      "             precision    recall  f1-score   support\n",
      "\n",
      "          0       0.95      1.00      0.98      6233\n",
      "          1       0.69      0.07      0.12       321\n",
      "\n",
      "avg / total       0.94      0.95      0.93      6554\n",
      "\n",
      "electricity\n",
      "             precision    recall  f1-score   support\n",
      "\n",
      "          0       0.98      1.00      0.99      6411\n",
      "          1       1.00      0.03      0.07       143\n",
      "\n",
      "avg / total       0.98      0.98      0.97      6554\n",
      "\n",
      "tools\n",
      "             precision    recall  f1-score   support\n",
      "\n",
      "          0       0.99      1.00      1.00      6500\n",
      "          1       0.00      0.00      0.00        54\n",
      "\n",
      "avg / total       0.98      0.99      0.99      6554\n",
      "\n",
      "hospitals\n",
      "             precision    recall  f1-score   support\n",
      "\n",
      "          0       0.99      1.00      0.99      6472\n",
      "          1       0.00      0.00      0.00        82\n",
      "\n",
      "avg / total       0.98      0.99      0.98      6554\n",
      "\n",
      "shops\n",
      "             precision    recall  f1-score   support\n",
      "\n",
      "          0       1.00      1.00      1.00      6525\n",
      "          1       0.00      0.00      0.00        29\n",
      "\n",
      "avg / total       0.99      1.00      0.99      6554\n",
      "\n",
      "aid_centers\n",
      "             precision    recall  f1-score   support\n",
      "\n",
      "          0       0.99      1.00      0.99      6478\n",
      "          1       0.00      0.00      0.00        76\n",
      "\n",
      "avg / total       0.98      0.99      0.98      6554\n",
      "\n",
      "other_infrastructure\n",
      "             precision    recall  f1-score   support\n",
      "\n",
      "          0       0.96      1.00      0.98      6279\n",
      "          1       0.00      0.00      0.00       275\n",
      "\n",
      "avg / total       0.92      0.96      0.94      6554\n",
      "\n",
      "weather_related\n",
      "             precision    recall  f1-score   support\n",
      "\n",
      "          0       0.89      0.95      0.92      4735\n",
      "          1       0.84      0.68      0.75      1819\n",
      "\n",
      "avg / total       0.87      0.88      0.87      6554\n",
      "\n",
      "floods\n",
      "             precision    recall  f1-score   support\n",
      "\n",
      "          0       0.95      0.99      0.97      6025\n",
      "          1       0.86      0.42      0.56       529\n",
      "\n",
      "avg / total       0.94      0.95      0.94      6554\n",
      "\n",
      "storm\n",
      "             precision    recall  f1-score   support\n",
      "\n",
      "          0       0.95      0.99      0.97      5939\n",
      "          1       0.78      0.47      0.59       615\n",
      "\n",
      "avg / total       0.93      0.94      0.93      6554\n",
      "\n",
      "fire\n",
      "             precision    recall  f1-score   support\n",
      "\n",
      "          0       0.99      1.00      0.99      6472\n",
      "          1       0.00      0.00      0.00        82\n",
      "\n",
      "avg / total       0.98      0.99      0.98      6554\n",
      "\n",
      "earthquake\n",
      "             precision    recall  f1-score   support\n",
      "\n",
      "          0       0.98      0.99      0.99      5983\n",
      "          1       0.88      0.83      0.85       571\n",
      "\n",
      "avg / total       0.97      0.98      0.97      6554\n",
      "\n",
      "cold\n",
      "             precision    recall  f1-score   support\n",
      "\n",
      "          0       0.98      1.00      0.99      6411\n",
      "          1       0.71      0.03      0.07       143\n",
      "\n",
      "avg / total       0.97      0.98      0.97      6554\n",
      "\n",
      "other_weather\n",
      "             precision    recall  f1-score   support\n",
      "\n",
      "          0       0.95      1.00      0.97      6212\n",
      "          1       0.54      0.06      0.11       342\n",
      "\n",
      "avg / total       0.93      0.95      0.93      6554\n",
      "\n",
      "direct_report\n",
      "             precision    recall  f1-score   support\n",
      "\n",
      "          0       0.86      0.98      0.92      5253\n",
      "          1       0.80      0.36      0.50      1301\n",
      "\n",
      "avg / total       0.85      0.86      0.83      6554\n",
      "\n",
      "Accuracy Overall:\n",
      " 0.947911368799\n"
     ]
    },
    {
     "name": "stderr",
     "output_type": "stream",
     "text": [
      "/opt/conda/lib/python3.6/site-packages/sklearn/metrics/classification.py:1135: UndefinedMetricWarning: Precision and F-score are ill-defined and being set to 0.0 in labels with no predicted samples.\n",
      "  'precision', 'predicted', average, warn_for)\n"
     ]
    }
   ],
   "source": [
    "Y_pred = cv.predict(X_test)\n",
    "for ix, col in enumerate(Y.columns):\n",
    "    print(col)\n",
    "    print(classification_report(Y_test[col], Y_pred[:,ix]))\n",
    "\n",
    "avg = (Y_pred == Y_test).mean().mean()\n",
    "print(\"Accuracy Overall:\\n\", avg)"
   ]
  },
  {
   "cell_type": "code",
   "execution_count": 18,
   "metadata": {},
   "outputs": [
    {
     "name": "stdout",
     "output_type": "stream",
     "text": [
      "GridSearchCV(cv=None, error_score='raise',\n",
      "       estimator=Pipeline(memory=None,\n",
      "     steps=[('vect', CountVectorizer(analyzer='word', binary=False, decode_error='strict',\n",
      "        dtype=<class 'numpy.int64'>, encoding='utf-8', input='content',\n",
      "        lowercase=True, max_df=1.0, max_features=None, min_df=1,\n",
      "        ngram_range=(1, 1), preprocessor=None, stop_words=None,\n",
      "        strip...oob_score=False, random_state=None, verbose=0,\n",
      "            warm_start=False),\n",
      "           n_jobs=1))]),\n",
      "       fit_params=None, iid=True, n_jobs=4,\n",
      "       param_grid={'vect__max_df': [0.75, 1.0], 'clf__estimator__n_estimators': [20, 50]},\n",
      "       pre_dispatch='2*n_jobs', refit=True, return_train_score='warn',\n",
      "       scoring=None, verbose=10)\n"
     ]
    }
   ],
   "source": [
    "model = cv\n",
    "print(model)"
   ]
  },
  {
   "cell_type": "code",
   "execution_count": 19,
   "metadata": {},
   "outputs": [
    {
     "name": "stdout",
     "output_type": "stream",
     "text": [
      "Fitting 3 folds for each of 4 candidates, totalling 12 fits\n",
      "[CV] clf__estimator__n_estimators=20, vect__max_df=0.75 ..............\n",
      "[CV] clf__estimator__n_estimators=20, vect__max_df=0.75 ..............\n",
      "[CV] clf__estimator__n_estimators=20, vect__max_df=0.75 ..............\n",
      "[CV] clf__estimator__n_estimators=20, vect__max_df=1.0 ...............\n",
      "[CV]  clf__estimator__n_estimators=20, vect__max_df=0.75, score=0.2465669819957278, total=11.2min\n",
      "[CV] clf__estimator__n_estimators=20, vect__max_df=1.0 ...............\n",
      "[CV]  clf__estimator__n_estimators=20, vect__max_df=1.0, score=0.2525175465364663, total=11.3min\n",
      "[CV] clf__estimator__n_estimators=20, vect__max_df=1.0 ...............\n",
      "[CV]  clf__estimator__n_estimators=20, vect__max_df=0.75, score=0.2525175465364663, total=11.3min\n",
      "[CV] clf__estimator__n_estimators=50, vect__max_df=0.75 ..............\n",
      "[CV]  clf__estimator__n_estimators=20, vect__max_df=0.75, score=0.2572474824534635, total=11.3min\n",
      "[CV] clf__estimator__n_estimators=50, vect__max_df=0.75 ..............\n",
      "[CV]  clf__estimator__n_estimators=20, vect__max_df=1.0, score=0.24122673176685994, total=11.4min\n",
      "[CV] clf__estimator__n_estimators=50, vect__max_df=0.75 ..............\n"
     ]
    },
    {
     "name": "stderr",
     "output_type": "stream",
     "text": [
      "[Parallel(n_jobs=4)]: Done   5 tasks      | elapsed: 31.5min\n"
     ]
    },
    {
     "name": "stdout",
     "output_type": "stream",
     "text": [
      "[CV]  clf__estimator__n_estimators=20, vect__max_df=1.0, score=0.25465364662801343, total=11.4min\n",
      "[CV] clf__estimator__n_estimators=50, vect__max_df=1.0 ...............\n",
      "[CV]  clf__estimator__n_estimators=50, vect__max_df=0.75, score=0.25129691791272507, total=19.5min\n",
      "[CV] clf__estimator__n_estimators=50, vect__max_df=1.0 ...............\n"
     ]
    },
    {
     "name": "stderr",
     "output_type": "stream",
     "text": [
      "[Parallel(n_jobs=4)]: Done   7 out of  12 | elapsed: 40.5min remaining: 28.9min\n"
     ]
    },
    {
     "name": "stdout",
     "output_type": "stream",
     "text": [
      "[CV]  clf__estimator__n_estimators=50, vect__max_df=0.75, score=0.25846811107720474, total=19.5min\n",
      "[CV] clf__estimator__n_estimators=50, vect__max_df=1.0 ...............\n",
      "[CV]  clf__estimator__n_estimators=50, vect__max_df=0.75, score=0.26838571864510224, total=19.9min\n"
     ]
    },
    {
     "name": "stderr",
     "output_type": "stream",
     "text": [
      "[Parallel(n_jobs=4)]: Done   9 out of  12 | elapsed: 56.7min remaining: 18.9min\n"
     ]
    },
    {
     "name": "stdout",
     "output_type": "stream",
     "text": [
      "[CV]  clf__estimator__n_estimators=50, vect__max_df=1.0, score=0.2602990540128166, total=19.8min\n",
      "[CV]  clf__estimator__n_estimators=50, vect__max_df=1.0, score=0.24900823924321025, total=18.0min\n",
      "[CV]  clf__estimator__n_estimators=50, vect__max_df=1.0, score=0.2639609398840403, total=18.0min\n"
     ]
    },
    {
     "name": "stderr",
     "output_type": "stream",
     "text": [
      "[Parallel(n_jobs=4)]: Done  12 out of  12 | elapsed: 61.0min finished\n"
     ]
    },
    {
     "data": {
      "text/plain": [
       "GridSearchCV(cv=None, error_score='raise',\n",
       "       estimator=Pipeline(memory=None,\n",
       "     steps=[('vect', CountVectorizer(analyzer='word', binary=False, decode_error='strict',\n",
       "        dtype=<class 'numpy.int64'>, encoding='utf-8', input='content',\n",
       "        lowercase=True, max_df=1.0, max_features=None, min_df=1,\n",
       "        ngram_range=(1, 1), preprocessor=None, stop_words=None,\n",
       "        strip...oob_score=False, random_state=None, verbose=0,\n",
       "            warm_start=False),\n",
       "           n_jobs=1))]),\n",
       "       fit_params=None, iid=True, n_jobs=4,\n",
       "       param_grid={'vect__max_df': [0.75, 1.0], 'clf__estimator__n_estimators': [20, 50]},\n",
       "       pre_dispatch='2*n_jobs', refit=True, return_train_score='warn',\n",
       "       scoring=None, verbose=10)"
      ]
     },
     "execution_count": 19,
     "metadata": {},
     "output_type": "execute_result"
    }
   ],
   "source": [
    "model.fit(X_train, Y_train)"
   ]
  },
  {
   "cell_type": "markdown",
   "metadata": {},
   "source": [
    "### 8. Try improving your model further. Here are a few ideas:\n",
    "* try other machine learning algorithms\n",
    "* add other features besides the TF-IDF"
   ]
  },
  {
   "cell_type": "code",
   "execution_count": null,
   "metadata": {},
   "outputs": [],
   "source": []
  },
  {
   "cell_type": "markdown",
   "metadata": {},
   "source": [
    "### 9. Export your model as a pickle file"
   ]
  },
  {
   "cell_type": "code",
   "execution_count": 25,
   "metadata": {},
   "outputs": [],
   "source": [
    "#pickle.dump(model, open('classifier.pkl', 'wb'))\n",
    "pkl_filename = 'classifier.pkl'\n",
    "with open(pkl_filename, 'wb') as file:  \n",
    "    pickle.dump(model, file)"
   ]
  },
  {
   "cell_type": "markdown",
   "metadata": {},
   "source": [
    "### 10. Use this notebook to complete `train.py`\n",
    "Use the template file attached in the Resources folder to write a script that runs the steps above to create a database and export a model based on a new dataset specified by the user."
   ]
  },
  {
   "cell_type": "code",
   "execution_count": null,
   "metadata": {},
   "outputs": [],
   "source": []
  }
 ],
 "metadata": {
  "kernelspec": {
   "display_name": "Python 3",
   "language": "python",
   "name": "python3"
  },
  "language_info": {
   "codemirror_mode": {
    "name": "ipython",
    "version": 3
   },
   "file_extension": ".py",
   "mimetype": "text/x-python",
   "name": "python",
   "nbconvert_exporter": "python",
   "pygments_lexer": "ipython3",
   "version": "3.7.6"
  }
 },
 "nbformat": 4,
 "nbformat_minor": 2
}
